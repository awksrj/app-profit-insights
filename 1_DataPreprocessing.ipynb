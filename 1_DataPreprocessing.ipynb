{
  "nbformat": 4,
  "nbformat_minor": 0,
  "metadata": {
    "colab": {
      "provenance": []
    },
    "kernelspec": {
      "name": "python3",
      "display_name": "Python 3"
    },
    "language_info": {
      "name": "python"
    }
  },
  "cells": [
    {
      "cell_type": "markdown",
      "source": [
        "# Data Preprocessing\n",
        "\n",
        "## Overview\n",
        "In this notebook, we preprocess the Google Play and Apple Store app datasets by:\n",
        "- Loading and exploring the data\n",
        "- Removing incorrect data (e.g., malformed row in Google Play)\n",
        "- Removing duplicates, keeping the entry with the highest number of reviews\n",
        "- Filtering out non-English apps\n",
        "- Isolating free apps\n",
        "- Saving the preprocessed datasets to CSV files\n",
        "\n",
        "The preprocessed data will be used for further analysis on app profitability.\n"
      ],
      "metadata": {
        "id": "xDmU1WDUqYjg"
      }
    },
    {
      "cell_type": "markdown",
      "source": [
        "\n",
        "## 1. Opening and Exploring the Data\n"
      ],
      "metadata": {
        "id": "Yo8fPo1Qrf0i"
      }
    },
    {
      "cell_type": "markdown",
      "source": [
        "Loads the raw datasets and provides an initial exploration of their structure and content."
      ],
      "metadata": {
        "id": "Tmj2lZZGzgyp"
      }
    },
    {
      "cell_type": "code",
      "source": [
        "import pandas as pd\n",
        "\n",
        "def explore_data(data_input, n_rows=5, rows_and_columns=False, header=None):\n",
        "    \"\"\"\n",
        "    Explore a dataset using pandas.\n",
        "    Prints the first n_rows in list format and optionally the number of rows and columns.\n",
        "\n",
        "    Parameters:\n",
        "    - data_input: Path to a CSV file or a pandas DataFrame\n",
        "    - n_rows: Number of rows to display (default: 5)\n",
        "    - rows_and_columns: If True, prints the number of rows and columns (default: False)\n",
        "    - header: Column names for CSV if reading from file (default: None, uses 0-based index)\n",
        "\n",
        "    Returns:\n",
        "    - The dataframe slice or head\n",
        "    \"\"\"\n",
        "    # Determine if input is a DataFrame or file path\n",
        "    if isinstance(data_input, pd.DataFrame):\n",
        "        df = data_input\n",
        "    else:\n",
        "        df = pd.read_csv(data_input, header=header)\n",
        "\n",
        "    # Get the first n_rows\n",
        "    df_head = df.head(n_rows)\n",
        "\n",
        "    # Print each row as a list\n",
        "    for index, row in df_head.iterrows():\n",
        "        print(row.tolist())\n",
        "        print()  # Adds an empty line after each row\n",
        "\n",
        "    # Print row and column counts if requested\n",
        "    if rows_and_columns:\n",
        "        print('Number of rows:', len(df))\n",
        "        print('Number of columns:', len(df.columns))\n",
        "\n",
        "    # Return the head of the dataframe\n",
        "    return df_head\n",
        "\n",
        "# Load the original datasets\n",
        "apple_store = pd.read_csv('/content/AppleStore.csv')\n",
        "google_play = pd.read_csv('/content/googleplaystore.csv')\n",
        "\n",
        "print(\"\\nExploring AppleStore.csv:\")\n",
        "explore_data('/content/AppleStore.csv', n_rows=3, rows_and_columns=True)\n",
        "print(\"\\nExploring googleplaystore.csv:\")\n",
        "explore_data('/content/googleplaystore.csv', n_rows=3, rows_and_columns=True)"
      ],
      "metadata": {
        "colab": {
          "base_uri": "https://localhost:8080/",
          "height": 597
        },
        "id": "olTLB8SDqtkN",
        "outputId": "320fe1ce-5cf4-4807-dbed-6c54a9892973"
      },
      "execution_count": null,
      "outputs": [
        {
          "output_type": "stream",
          "name": "stdout",
          "text": [
            "\n",
            "Exploring AppleStore.csv:\n",
            "['id', 'track_name', 'size_bytes', 'currency', 'price', 'rating_count_tot', 'rating_count_ver', 'user_rating', 'user_rating_ver', 'ver', 'cont_rating', 'prime_genre', 'sup_devices.num', 'ipadSc_urls.num', 'lang.num', 'vpp_lic']\n",
            "\n",
            "['284882215', 'Facebook', '389879808', 'USD', '0.0', '2974676', '212', '3.5', '3.5', '95.0', '4+', 'Social Networking', '37', '1', '29', '1']\n",
            "\n",
            "['389801252', 'Instagram', '113954816', 'USD', '0.0', '2161558', '1289', '4.5', '4.0', '10.23', '12+', 'Photo & Video', '37', '0', '29', '1']\n",
            "\n",
            "Number of rows: 7198\n",
            "Number of columns: 16\n",
            "\n",
            "Exploring googleplaystore.csv:\n",
            "['App', 'Category', 'Rating', 'Reviews', 'Size', 'Installs', 'Type', 'Price', 'Content Rating', 'Genres', 'Last Updated', 'Current Ver', 'Android Ver']\n",
            "\n",
            "['Photo Editor & Candy Camera & Grid & ScrapBook', 'ART_AND_DESIGN', '4.1', '159', '19M', '10,000+', 'Free', '0', 'Everyone', 'Art & Design', 'January 7, 2018', '1.0.0', '4.0.3 and up']\n",
            "\n",
            "['Coloring book moana', 'ART_AND_DESIGN', '3.9', '967', '14M', '500,000+', 'Free', '0', 'Everyone', 'Art & Design;Pretend Play', 'January 15, 2018', '2.0.0', '4.0.3 and up']\n",
            "\n",
            "Number of rows: 10842\n",
            "Number of columns: 13\n"
          ]
        },
        {
          "output_type": "execute_result",
          "data": {
            "text/plain": [
              "                                               0               1       2   \\\n",
              "0                                             App        Category  Rating   \n",
              "1  Photo Editor & Candy Camera & Grid & ScrapBook  ART_AND_DESIGN     4.1   \n",
              "2                             Coloring book moana  ART_AND_DESIGN     3.9   \n",
              "\n",
              "        3     4         5     6      7               8   \\\n",
              "0  Reviews  Size  Installs  Type  Price  Content Rating   \n",
              "1      159   19M   10,000+  Free      0        Everyone   \n",
              "2      967   14M  500,000+  Free      0        Everyone   \n",
              "\n",
              "                          9                 10           11            12  \n",
              "0                     Genres      Last Updated  Current Ver   Android Ver  \n",
              "1               Art & Design   January 7, 2018        1.0.0  4.0.3 and up  \n",
              "2  Art & Design;Pretend Play  January 15, 2018        2.0.0  4.0.3 and up  "
            ],
            "text/html": [
              "\n",
              "  <div id=\"df-54ea3c59-84c2-49f4-954c-36be4ca811a1\" class=\"colab-df-container\">\n",
              "    <div>\n",
              "<style scoped>\n",
              "    .dataframe tbody tr th:only-of-type {\n",
              "        vertical-align: middle;\n",
              "    }\n",
              "\n",
              "    .dataframe tbody tr th {\n",
              "        vertical-align: top;\n",
              "    }\n",
              "\n",
              "    .dataframe thead th {\n",
              "        text-align: right;\n",
              "    }\n",
              "</style>\n",
              "<table border=\"1\" class=\"dataframe\">\n",
              "  <thead>\n",
              "    <tr style=\"text-align: right;\">\n",
              "      <th></th>\n",
              "      <th>0</th>\n",
              "      <th>1</th>\n",
              "      <th>2</th>\n",
              "      <th>3</th>\n",
              "      <th>4</th>\n",
              "      <th>5</th>\n",
              "      <th>6</th>\n",
              "      <th>7</th>\n",
              "      <th>8</th>\n",
              "      <th>9</th>\n",
              "      <th>10</th>\n",
              "      <th>11</th>\n",
              "      <th>12</th>\n",
              "    </tr>\n",
              "  </thead>\n",
              "  <tbody>\n",
              "    <tr>\n",
              "      <th>0</th>\n",
              "      <td>App</td>\n",
              "      <td>Category</td>\n",
              "      <td>Rating</td>\n",
              "      <td>Reviews</td>\n",
              "      <td>Size</td>\n",
              "      <td>Installs</td>\n",
              "      <td>Type</td>\n",
              "      <td>Price</td>\n",
              "      <td>Content Rating</td>\n",
              "      <td>Genres</td>\n",
              "      <td>Last Updated</td>\n",
              "      <td>Current Ver</td>\n",
              "      <td>Android Ver</td>\n",
              "    </tr>\n",
              "    <tr>\n",
              "      <th>1</th>\n",
              "      <td>Photo Editor &amp; Candy Camera &amp; Grid &amp; ScrapBook</td>\n",
              "      <td>ART_AND_DESIGN</td>\n",
              "      <td>4.1</td>\n",
              "      <td>159</td>\n",
              "      <td>19M</td>\n",
              "      <td>10,000+</td>\n",
              "      <td>Free</td>\n",
              "      <td>0</td>\n",
              "      <td>Everyone</td>\n",
              "      <td>Art &amp; Design</td>\n",
              "      <td>January 7, 2018</td>\n",
              "      <td>1.0.0</td>\n",
              "      <td>4.0.3 and up</td>\n",
              "    </tr>\n",
              "    <tr>\n",
              "      <th>2</th>\n",
              "      <td>Coloring book moana</td>\n",
              "      <td>ART_AND_DESIGN</td>\n",
              "      <td>3.9</td>\n",
              "      <td>967</td>\n",
              "      <td>14M</td>\n",
              "      <td>500,000+</td>\n",
              "      <td>Free</td>\n",
              "      <td>0</td>\n",
              "      <td>Everyone</td>\n",
              "      <td>Art &amp; Design;Pretend Play</td>\n",
              "      <td>January 15, 2018</td>\n",
              "      <td>2.0.0</td>\n",
              "      <td>4.0.3 and up</td>\n",
              "    </tr>\n",
              "  </tbody>\n",
              "</table>\n",
              "</div>\n",
              "    <div class=\"colab-df-buttons\">\n",
              "\n",
              "  <div class=\"colab-df-container\">\n",
              "    <button class=\"colab-df-convert\" onclick=\"convertToInteractive('df-54ea3c59-84c2-49f4-954c-36be4ca811a1')\"\n",
              "            title=\"Convert this dataframe to an interactive table.\"\n",
              "            style=\"display:none;\">\n",
              "\n",
              "  <svg xmlns=\"http://www.w3.org/2000/svg\" height=\"24px\" viewBox=\"0 -960 960 960\">\n",
              "    <path d=\"M120-120v-720h720v720H120Zm60-500h600v-160H180v160Zm220 220h160v-160H400v160Zm0 220h160v-160H400v160ZM180-400h160v-160H180v160Zm440 0h160v-160H620v160ZM180-180h160v-160H180v160Zm440 0h160v-160H620v160Z\"/>\n",
              "  </svg>\n",
              "    </button>\n",
              "\n",
              "  <style>\n",
              "    .colab-df-container {\n",
              "      display:flex;\n",
              "      gap: 12px;\n",
              "    }\n",
              "\n",
              "    .colab-df-convert {\n",
              "      background-color: #E8F0FE;\n",
              "      border: none;\n",
              "      border-radius: 50%;\n",
              "      cursor: pointer;\n",
              "      display: none;\n",
              "      fill: #1967D2;\n",
              "      height: 32px;\n",
              "      padding: 0 0 0 0;\n",
              "      width: 32px;\n",
              "    }\n",
              "\n",
              "    .colab-df-convert:hover {\n",
              "      background-color: #E2EBFA;\n",
              "      box-shadow: 0px 1px 2px rgba(60, 64, 67, 0.3), 0px 1px 3px 1px rgba(60, 64, 67, 0.15);\n",
              "      fill: #174EA6;\n",
              "    }\n",
              "\n",
              "    .colab-df-buttons div {\n",
              "      margin-bottom: 4px;\n",
              "    }\n",
              "\n",
              "    [theme=dark] .colab-df-convert {\n",
              "      background-color: #3B4455;\n",
              "      fill: #D2E3FC;\n",
              "    }\n",
              "\n",
              "    [theme=dark] .colab-df-convert:hover {\n",
              "      background-color: #434B5C;\n",
              "      box-shadow: 0px 1px 3px 1px rgba(0, 0, 0, 0.15);\n",
              "      filter: drop-shadow(0px 1px 2px rgba(0, 0, 0, 0.3));\n",
              "      fill: #FFFFFF;\n",
              "    }\n",
              "  </style>\n",
              "\n",
              "    <script>\n",
              "      const buttonEl =\n",
              "        document.querySelector('#df-54ea3c59-84c2-49f4-954c-36be4ca811a1 button.colab-df-convert');\n",
              "      buttonEl.style.display =\n",
              "        google.colab.kernel.accessAllowed ? 'block' : 'none';\n",
              "\n",
              "      async function convertToInteractive(key) {\n",
              "        const element = document.querySelector('#df-54ea3c59-84c2-49f4-954c-36be4ca811a1');\n",
              "        const dataTable =\n",
              "          await google.colab.kernel.invokeFunction('convertToInteractive',\n",
              "                                                    [key], {});\n",
              "        if (!dataTable) return;\n",
              "\n",
              "        const docLinkHtml = 'Like what you see? Visit the ' +\n",
              "          '<a target=\"_blank\" href=https://colab.research.google.com/notebooks/data_table.ipynb>data table notebook</a>'\n",
              "          + ' to learn more about interactive tables.';\n",
              "        element.innerHTML = '';\n",
              "        dataTable['output_type'] = 'display_data';\n",
              "        await google.colab.output.renderOutput(dataTable, element);\n",
              "        const docLink = document.createElement('div');\n",
              "        docLink.innerHTML = docLinkHtml;\n",
              "        element.appendChild(docLink);\n",
              "      }\n",
              "    </script>\n",
              "  </div>\n",
              "\n",
              "\n",
              "    <div id=\"df-206de637-79bb-48e3-8b48-0c0c0b4e3fba\">\n",
              "      <button class=\"colab-df-quickchart\" onclick=\"quickchart('df-206de637-79bb-48e3-8b48-0c0c0b4e3fba')\"\n",
              "                title=\"Suggest charts\"\n",
              "                style=\"display:none;\">\n",
              "\n",
              "<svg xmlns=\"http://www.w3.org/2000/svg\" height=\"24px\"viewBox=\"0 0 24 24\"\n",
              "     width=\"24px\">\n",
              "    <g>\n",
              "        <path d=\"M19 3H5c-1.1 0-2 .9-2 2v14c0 1.1.9 2 2 2h14c1.1 0 2-.9 2-2V5c0-1.1-.9-2-2-2zM9 17H7v-7h2v7zm4 0h-2V7h2v10zm4 0h-2v-4h2v4z\"/>\n",
              "    </g>\n",
              "</svg>\n",
              "      </button>\n",
              "\n",
              "<style>\n",
              "  .colab-df-quickchart {\n",
              "      --bg-color: #E8F0FE;\n",
              "      --fill-color: #1967D2;\n",
              "      --hover-bg-color: #E2EBFA;\n",
              "      --hover-fill-color: #174EA6;\n",
              "      --disabled-fill-color: #AAA;\n",
              "      --disabled-bg-color: #DDD;\n",
              "  }\n",
              "\n",
              "  [theme=dark] .colab-df-quickchart {\n",
              "      --bg-color: #3B4455;\n",
              "      --fill-color: #D2E3FC;\n",
              "      --hover-bg-color: #434B5C;\n",
              "      --hover-fill-color: #FFFFFF;\n",
              "      --disabled-bg-color: #3B4455;\n",
              "      --disabled-fill-color: #666;\n",
              "  }\n",
              "\n",
              "  .colab-df-quickchart {\n",
              "    background-color: var(--bg-color);\n",
              "    border: none;\n",
              "    border-radius: 50%;\n",
              "    cursor: pointer;\n",
              "    display: none;\n",
              "    fill: var(--fill-color);\n",
              "    height: 32px;\n",
              "    padding: 0;\n",
              "    width: 32px;\n",
              "  }\n",
              "\n",
              "  .colab-df-quickchart:hover {\n",
              "    background-color: var(--hover-bg-color);\n",
              "    box-shadow: 0 1px 2px rgba(60, 64, 67, 0.3), 0 1px 3px 1px rgba(60, 64, 67, 0.15);\n",
              "    fill: var(--button-hover-fill-color);\n",
              "  }\n",
              "\n",
              "  .colab-df-quickchart-complete:disabled,\n",
              "  .colab-df-quickchart-complete:disabled:hover {\n",
              "    background-color: var(--disabled-bg-color);\n",
              "    fill: var(--disabled-fill-color);\n",
              "    box-shadow: none;\n",
              "  }\n",
              "\n",
              "  .colab-df-spinner {\n",
              "    border: 2px solid var(--fill-color);\n",
              "    border-color: transparent;\n",
              "    border-bottom-color: var(--fill-color);\n",
              "    animation:\n",
              "      spin 1s steps(1) infinite;\n",
              "  }\n",
              "\n",
              "  @keyframes spin {\n",
              "    0% {\n",
              "      border-color: transparent;\n",
              "      border-bottom-color: var(--fill-color);\n",
              "      border-left-color: var(--fill-color);\n",
              "    }\n",
              "    20% {\n",
              "      border-color: transparent;\n",
              "      border-left-color: var(--fill-color);\n",
              "      border-top-color: var(--fill-color);\n",
              "    }\n",
              "    30% {\n",
              "      border-color: transparent;\n",
              "      border-left-color: var(--fill-color);\n",
              "      border-top-color: var(--fill-color);\n",
              "      border-right-color: var(--fill-color);\n",
              "    }\n",
              "    40% {\n",
              "      border-color: transparent;\n",
              "      border-right-color: var(--fill-color);\n",
              "      border-top-color: var(--fill-color);\n",
              "    }\n",
              "    60% {\n",
              "      border-color: transparent;\n",
              "      border-right-color: var(--fill-color);\n",
              "    }\n",
              "    80% {\n",
              "      border-color: transparent;\n",
              "      border-right-color: var(--fill-color);\n",
              "      border-bottom-color: var(--fill-color);\n",
              "    }\n",
              "    90% {\n",
              "      border-color: transparent;\n",
              "      border-bottom-color: var(--fill-color);\n",
              "    }\n",
              "  }\n",
              "</style>\n",
              "\n",
              "      <script>\n",
              "        async function quickchart(key) {\n",
              "          const quickchartButtonEl =\n",
              "            document.querySelector('#' + key + ' button');\n",
              "          quickchartButtonEl.disabled = true;  // To prevent multiple clicks.\n",
              "          quickchartButtonEl.classList.add('colab-df-spinner');\n",
              "          try {\n",
              "            const charts = await google.colab.kernel.invokeFunction(\n",
              "                'suggestCharts', [key], {});\n",
              "          } catch (error) {\n",
              "            console.error('Error during call to suggestCharts:', error);\n",
              "          }\n",
              "          quickchartButtonEl.classList.remove('colab-df-spinner');\n",
              "          quickchartButtonEl.classList.add('colab-df-quickchart-complete');\n",
              "        }\n",
              "        (() => {\n",
              "          let quickchartButtonEl =\n",
              "            document.querySelector('#df-206de637-79bb-48e3-8b48-0c0c0b4e3fba button');\n",
              "          quickchartButtonEl.style.display =\n",
              "            google.colab.kernel.accessAllowed ? 'block' : 'none';\n",
              "        })();\n",
              "      </script>\n",
              "    </div>\n",
              "\n",
              "    </div>\n",
              "  </div>\n"
            ],
            "application/vnd.google.colaboratory.intrinsic+json": {
              "type": "dataframe",
              "summary": "{\n  \"name\": \"explore_data('/content/googleplaystore\",\n  \"rows\": 3,\n  \"fields\": [\n    {\n      \"column\": 0,\n      \"properties\": {\n        \"dtype\": \"string\",\n        \"num_unique_values\": 3,\n        \"samples\": [\n          \"App\",\n          \"Photo Editor & Candy Camera & Grid & ScrapBook\",\n          \"Coloring book moana\"\n        ],\n        \"semantic_type\": \"\",\n        \"description\": \"\"\n      }\n    },\n    {\n      \"column\": 1,\n      \"properties\": {\n        \"dtype\": \"string\",\n        \"num_unique_values\": 2,\n        \"samples\": [\n          \"ART_AND_DESIGN\",\n          \"Category\"\n        ],\n        \"semantic_type\": \"\",\n        \"description\": \"\"\n      }\n    },\n    {\n      \"column\": 2,\n      \"properties\": {\n        \"dtype\": \"string\",\n        \"num_unique_values\": 3,\n        \"samples\": [\n          \"Rating\",\n          \"4.1\"\n        ],\n        \"semantic_type\": \"\",\n        \"description\": \"\"\n      }\n    },\n    {\n      \"column\": 3,\n      \"properties\": {\n        \"dtype\": \"string\",\n        \"num_unique_values\": 3,\n        \"samples\": [\n          \"Reviews\",\n          \"159\"\n        ],\n        \"semantic_type\": \"\",\n        \"description\": \"\"\n      }\n    },\n    {\n      \"column\": 4,\n      \"properties\": {\n        \"dtype\": \"string\",\n        \"num_unique_values\": 3,\n        \"samples\": [\n          \"Size\",\n          \"19M\"\n        ],\n        \"semantic_type\": \"\",\n        \"description\": \"\"\n      }\n    },\n    {\n      \"column\": 5,\n      \"properties\": {\n        \"dtype\": \"string\",\n        \"num_unique_values\": 3,\n        \"samples\": [\n          \"Installs\",\n          \"10,000+\"\n        ],\n        \"semantic_type\": \"\",\n        \"description\": \"\"\n      }\n    },\n    {\n      \"column\": 6,\n      \"properties\": {\n        \"dtype\": \"string\",\n        \"num_unique_values\": 2,\n        \"samples\": [\n          \"Free\",\n          \"Type\"\n        ],\n        \"semantic_type\": \"\",\n        \"description\": \"\"\n      }\n    },\n    {\n      \"column\": 7,\n      \"properties\": {\n        \"dtype\": \"string\",\n        \"num_unique_values\": 2,\n        \"samples\": [\n          \"0\",\n          \"Price\"\n        ],\n        \"semantic_type\": \"\",\n        \"description\": \"\"\n      }\n    },\n    {\n      \"column\": 8,\n      \"properties\": {\n        \"dtype\": \"string\",\n        \"num_unique_values\": 2,\n        \"samples\": [\n          \"Everyone\",\n          \"Content Rating\"\n        ],\n        \"semantic_type\": \"\",\n        \"description\": \"\"\n      }\n    },\n    {\n      \"column\": 9,\n      \"properties\": {\n        \"dtype\": \"string\",\n        \"num_unique_values\": 3,\n        \"samples\": [\n          \"Genres\",\n          \"Art & Design\"\n        ],\n        \"semantic_type\": \"\",\n        \"description\": \"\"\n      }\n    },\n    {\n      \"column\": 10,\n      \"properties\": {\n        \"dtype\": \"string\",\n        \"num_unique_values\": 3,\n        \"samples\": [\n          \"Last Updated\",\n          \"January 7, 2018\"\n        ],\n        \"semantic_type\": \"\",\n        \"description\": \"\"\n      }\n    },\n    {\n      \"column\": 11,\n      \"properties\": {\n        \"dtype\": \"string\",\n        \"num_unique_values\": 3,\n        \"samples\": [\n          \"Current Ver\",\n          \"1.0.0\"\n        ],\n        \"semantic_type\": \"\",\n        \"description\": \"\"\n      }\n    },\n    {\n      \"column\": 12,\n      \"properties\": {\n        \"dtype\": \"string\",\n        \"num_unique_values\": 2,\n        \"samples\": [\n          \"4.0.3 and up\",\n          \"Android Ver\"\n        ],\n        \"semantic_type\": \"\",\n        \"description\": \"\"\n      }\n    }\n  ]\n}"
            }
          },
          "metadata": {},
          "execution_count": 31
        }
      ]
    },
    {
      "cell_type": "markdown",
      "source": [
        "We can see that the AppleStore.csv dataset contains 7198 rows and 16 columns, while the googleplaystore.csv dataset has 10842 rows and 13 columns."
      ],
      "metadata": {
        "id": "Bjb900Jj5hb4"
      }
    },
    {
      "cell_type": "markdown",
      "source": [
        "## 2. Deleting wrong data\n"
      ],
      "metadata": {
        "id": "XrlgGqk2xN6X"
      }
    },
    {
      "cell_type": "markdown",
      "source": [
        "\n",
        "The Google Play data set has a dedicated discussion section on Kaggle, and we can see that one of the discussions outlines an error for row 10472. Let's print this row and compare it against the header and another row that is correct.\n"
      ],
      "metadata": {
        "id": "luFizqCNgGMM"
      }
    },
    {
      "cell_type": "code",
      "source": [
        "# Print the header\n",
        "print(\"\\nHeader:\")\n",
        "print(google_play.columns.tolist())\n",
        "\n",
        "# Print row 10472\n",
        "print(\"Row 10472:\")\n",
        "print(google_play.iloc[10472])\n",
        "\n",
        "# Print a correct row\n",
        "print(\"\\nRow 1 (index 0):\")\n",
        "print(google_play.iloc[0])\n"
      ],
      "metadata": {
        "colab": {
          "base_uri": "https://localhost:8080/"
        },
        "id": "tyJvcaBjsWkF",
        "outputId": "39908602-f451-4161-b2d6-2d22e2bde1da"
      },
      "execution_count": null,
      "outputs": [
        {
          "output_type": "stream",
          "name": "stdout",
          "text": [
            "\n",
            "Header:\n",
            "['App', 'Category', 'Rating', 'Reviews', 'Size', 'Installs', 'Type', 'Price', 'Content Rating', 'Genres', 'Last Updated', 'Current Ver', 'Android Ver']\n",
            "Row 10472:\n",
            "App               Life Made WI-Fi Touchscreen Photo Frame\n",
            "Category                                              1.9\n",
            "Rating                                               19.0\n",
            "Reviews                                              3.0M\n",
            "Size                                               1,000+\n",
            "Installs                                             Free\n",
            "Type                                                    0\n",
            "Price                                            Everyone\n",
            "Content Rating                                        NaN\n",
            "Genres                                  February 11, 2018\n",
            "Last Updated                                       1.0.19\n",
            "Current Ver                                    4.0 and up\n",
            "Android Ver                                           NaN\n",
            "Name: 10472, dtype: object\n",
            "\n",
            "Row 1 (index 0):\n",
            "App               Photo Editor & Candy Camera & Grid & ScrapBook\n",
            "Category                                          ART_AND_DESIGN\n",
            "Rating                                                       4.1\n",
            "Reviews                                                      159\n",
            "Size                                                         19M\n",
            "Installs                                                 10,000+\n",
            "Type                                                        Free\n",
            "Price                                                          0\n",
            "Content Rating                                          Everyone\n",
            "Genres                                              Art & Design\n",
            "Last Updated                                     January 7, 2018\n",
            "Current Ver                                                1.0.0\n",
            "Android Ver                                         4.0.3 and up\n",
            "Name: 0, dtype: object\n"
          ]
        }
      ]
    },
    {
      "cell_type": "markdown",
      "source": [
        "\n",
        "The row 10472 corresponds to the app Life Made WI-Fi Touchscreen Photo Frame, and we can see that the rating is 19. This is clearly off because the maximum rating for a Google Play app is 5 (as mentioned in the discussions section, this problem is caused by a missing value in the 'Category' column). As a consequence, we'll delete this row."
      ],
      "metadata": {
        "id": "Lq14m50yxF5A"
      }
    },
    {
      "cell_type": "code",
      "source": [
        "print(\"Original number of rows:\", len(google_play))\n",
        "\n",
        "# Delete the specific row where the app is \"Life Made WI-Fi Touchscreen Photo Frame\"\n",
        "mask = (google_play.index == 10472) & (google_play['App'] == 'Life Made WI-Fi Touchscreen Photo Frame')\n",
        "google_play = google_play[~mask]\n",
        "\n",
        "print(\"New number of rows:\", len(google_play))"
      ],
      "metadata": {
        "colab": {
          "base_uri": "https://localhost:8080/"
        },
        "id": "9LgEbEJ1xLxE",
        "outputId": "01bc6407-1525-42f3-b7dc-4cd8ef5ff6b0"
      },
      "execution_count": null,
      "outputs": [
        {
          "output_type": "stream",
          "name": "stdout",
          "text": [
            "Original number of rows: 10841\n",
            "New number of rows: 10840\n"
          ]
        }
      ]
    },
    {
      "cell_type": "markdown",
      "source": [
        "## 3. Removing Duplicate Entries"
      ],
      "metadata": {
        "id": "ay7yZ8df103w"
      }
    },
    {
      "cell_type": "markdown",
      "source": [
        "Some apps have more than one entry. We can calculate the total number of rows, duplicate entries, and unique duplicated apps to understand the extent of duplication in the Google Play dataset."
      ],
      "metadata": {
        "id": "0CnITkD45TqC"
      }
    },
    {
      "cell_type": "code",
      "source": [
        "total_rows = len(google_play)\n",
        "duplicates_count = google_play[google_play.duplicated(subset=['App'], keep=False)].shape[0]\n",
        "unique_duplicated_apps = len(google_play[google_play.duplicated(subset=['App'], keep=False)].groupby('App').size())\n",
        "extra_duplicates = duplicates_count - unique_duplicated_apps\n",
        "\n",
        "print(f\"Total rows: {total_rows}\")\n",
        "print(f\"Duplicate rows: {duplicates_count}\")\n",
        "print(f\"Unique duplicated apps: {unique_duplicated_apps}\")\n",
        "print(f\"Extra duplicate occurrences: {extra_duplicates}\")\n",
        "print(f\"Expected unique apps: {total_rows - extra_duplicates}\")"
      ],
      "metadata": {
        "colab": {
          "base_uri": "https://localhost:8080/"
        },
        "id": "576PJSgH1_gc",
        "outputId": "3c9d22fa-013a-4523-fa8f-9dae0e8e5270"
      },
      "execution_count": null,
      "outputs": [
        {
          "output_type": "stream",
          "name": "stdout",
          "text": [
            "Total rows: 10840\n",
            "Duplicate rows: 1979\n",
            "Unique duplicated apps: 798\n",
            "Extra duplicate occurrences: 1181\n",
            "Expected unique apps: 9659\n"
          ]
        }
      ]
    },
    {
      "cell_type": "markdown",
      "source": [
        "We can see that the total number of rows is 10840, with 1979 duplicate rows across 798 unique duplicated apps, resulting in 1181 extra duplicate occurrences. This suggests an expected unique app count of 9659 after removing duplicates.\n",
        "\n",
        "The analysis reveals that some apps, like 'Instagram', have multiple entries with varying review counts (e.g., in the fourth column), indicating data collection at different times. The higher review count typically reflects more recent data. To address this, we prioritize keeping the entry with the highest number of reviews rather than removing duplicates randomly."
      ],
      "metadata": {
        "id": "aWYDPsZQ7TwV"
      }
    },
    {
      "cell_type": "markdown",
      "source": [
        "We first creates a dictionary mapping each unique app name to its highest review count."
      ],
      "metadata": {
        "id": "ZI6g1koOSTO1"
      }
    },
    {
      "cell_type": "code",
      "source": [
        "# Build the dictionary\n",
        "max_reviews = google_play.groupby('App')['Reviews'].max().to_dict()\n",
        "\n",
        "# Verify the length\n",
        "print('Actual length:', len(max_reviews))"
      ],
      "metadata": {
        "colab": {
          "base_uri": "https://localhost:8080/"
        },
        "id": "46ZDEfQJ7ntV",
        "outputId": "46ffda0e-dd74-4db5-e1d4-236e100e9395"
      },
      "execution_count": null,
      "outputs": [
        {
          "output_type": "stream",
          "name": "stdout",
          "text": [
            "Actual length: 9659\n"
          ]
        }
      ]
    },
    {
      "cell_type": "markdown",
      "source": [
        "Now, let's use the reviews_max dictionary to remove the duplicates. For the duplicate cases, we'll only keep the entries with the highest number of reviews"
      ],
      "metadata": {
        "id": "L4OuODFjXJEA"
      }
    },
    {
      "cell_type": "code",
      "source": [
        "import numpy as np\n",
        "\n",
        "# Sort by 'App' and 'Reviews' in descending order to prioritize highest reviews\n",
        "google_play = google_play.sort_values(by=['App', 'Reviews'], ascending=[True, False])\n",
        "\n",
        "# Drop duplicates based on 'App', keeping the first occurrence (highest Reviews)\n",
        "google_play_cleaned = google_play.drop_duplicates(subset=['App'], keep='first')\n",
        "\n",
        "# Reset index for clean numbering\n",
        "google_play_cleaned = google_play_cleaned.reset_index(drop=True)\n",
        "\n",
        "# Print the new number of rows to verify\n",
        "print(\"Number of rows after removing duplicates:\", len(google_play_cleaned))\n",
        "print(\"Expected number of rows (unique apps):\", len(max_reviews))\n"
      ],
      "metadata": {
        "colab": {
          "base_uri": "https://localhost:8080/"
        },
        "id": "3j8Tjk66XMFz",
        "outputId": "ce56e1ae-fbef-46fb-bd26-8fde610056a2"
      },
      "execution_count": null,
      "outputs": [
        {
          "output_type": "stream",
          "name": "stdout",
          "text": [
            "Number of rows after removing duplicates: 9659\n",
            "Expected number of rows (unique apps): 9659\n"
          ]
        }
      ]
    },
    {
      "cell_type": "markdown",
      "source": [
        "We have 9659 rows, as expected."
      ],
      "metadata": {
        "id": "4pPzsKM7biCA"
      }
    },
    {
      "cell_type": "markdown",
      "source": [
        "## 4. Removing Non-English Apps and Isolating Free Apps"
      ],
      "metadata": {
        "id": "l6do0cotbmf2"
      }
    },
    {
      "cell_type": "markdown",
      "source": [
        "Filters out apps with more than three non-ASCII characters in their names to focus on English-language apps."
      ],
      "metadata": {
        "id": "znGgfyq2b03d"
      }
    },
    {
      "cell_type": "code",
      "source": [
        "# Define the is_english function to allow up to 3 non-ASCII characters\n",
        "def is_english(string):\n",
        "    non_ascii = sum(1 for character in str(string) if ord(character) > 127)\n",
        "    return non_ascii <= 3\n",
        "\n",
        "# Filter Android apps for English names\n",
        "google_play_english = google_play_cleaned[google_play_cleaned['App'].apply(is_english)]\n",
        "\n",
        "# Filter iOS apps for English names\n",
        "apple_store_english = apple_store[apple_store['track_name'].apply(is_english)]\n",
        "\n",
        "# Explore the filtered datasets\n",
        "explore_data(google_play_english, 3, True)\n",
        "print('\\n')\n",
        "explore_data(apple_store_english, 3, True)"
      ],
      "metadata": {
        "colab": {
          "base_uri": "https://localhost:8080/",
          "height": 528
        },
        "id": "xpq3Dk-ej3_o",
        "outputId": "7ee0e331-3c31-47fe-eb00-25dcb671eeec"
      },
      "execution_count": null,
      "outputs": [
        {
          "output_type": "stream",
          "name": "stdout",
          "text": [
            "['\"i DT\" Fútbol. Todos Somos Técnicos.', 'SPORTS', nan, 27, '3.6M', '500+', 'Free', '0', 'Everyone', 'Sports', 'October 7, 2017', '0.22', '4.1 and up', True]\n",
            "\n",
            "['+Download 4 Instagram Twitter', 'SOCIAL', 4.5, 40467, '22M', '1,000,000+', 'Free', '0', 'Everyone', 'Social', 'August 2, 2018', '5.03', '4.1 and up', True]\n",
            "\n",
            "['- Free Comics - Comic Apps', 'COMICS', 3.5, 115, '9.1M', '10,000+', 'Free', '0', 'Mature 17+', 'Comics', 'July 13, 2018', '5.0.12', '5.0 and up', True]\n",
            "\n",
            "Number of rows: 9614\n",
            "Number of columns: 14\n",
            "\n",
            "\n",
            "[284882215, 'Facebook', 389879808, 'USD', 0.0, 2974676, 212, 3.5, 3.5, '95.0', '4+', 'Social Networking', 37, 1, 29, 1]\n",
            "\n",
            "[389801252, 'Instagram', 113954816, 'USD', 0.0, 2161558, 1289, 4.5, 4.0, '10.23', '12+', 'Photo & Video', 37, 0, 29, 1]\n",
            "\n",
            "[529479190, 'Clash of Clans', 116476928, 'USD', 0.0, 2130805, 579, 4.5, 4.5, '9.24.12', '9+', 'Games', 38, 5, 18, 1]\n",
            "\n",
            "Number of rows: 6183\n",
            "Number of columns: 16\n"
          ]
        },
        {
          "output_type": "execute_result",
          "data": {
            "text/plain": [
              "          id      track_name  size_bytes currency  price  rating_count_tot  \\\n",
              "0  284882215        Facebook   389879808      USD    0.0           2974676   \n",
              "1  389801252       Instagram   113954816      USD    0.0           2161558   \n",
              "2  529479190  Clash of Clans   116476928      USD    0.0           2130805   \n",
              "\n",
              "   rating_count_ver  user_rating  user_rating_ver      ver cont_rating  \\\n",
              "0               212          3.5              3.5     95.0          4+   \n",
              "1              1289          4.5              4.0    10.23         12+   \n",
              "2               579          4.5              4.5  9.24.12          9+   \n",
              "\n",
              "         prime_genre  sup_devices.num  ipadSc_urls.num  lang.num  vpp_lic  \n",
              "0  Social Networking               37                1        29        1  \n",
              "1      Photo & Video               37                0        29        1  \n",
              "2              Games               38                5        18        1  "
            ],
            "text/html": [
              "\n",
              "  <div id=\"df-bb12d65d-6caf-4098-85d4-27e3a1f76937\" class=\"colab-df-container\">\n",
              "    <div>\n",
              "<style scoped>\n",
              "    .dataframe tbody tr th:only-of-type {\n",
              "        vertical-align: middle;\n",
              "    }\n",
              "\n",
              "    .dataframe tbody tr th {\n",
              "        vertical-align: top;\n",
              "    }\n",
              "\n",
              "    .dataframe thead th {\n",
              "        text-align: right;\n",
              "    }\n",
              "</style>\n",
              "<table border=\"1\" class=\"dataframe\">\n",
              "  <thead>\n",
              "    <tr style=\"text-align: right;\">\n",
              "      <th></th>\n",
              "      <th>id</th>\n",
              "      <th>track_name</th>\n",
              "      <th>size_bytes</th>\n",
              "      <th>currency</th>\n",
              "      <th>price</th>\n",
              "      <th>rating_count_tot</th>\n",
              "      <th>rating_count_ver</th>\n",
              "      <th>user_rating</th>\n",
              "      <th>user_rating_ver</th>\n",
              "      <th>ver</th>\n",
              "      <th>cont_rating</th>\n",
              "      <th>prime_genre</th>\n",
              "      <th>sup_devices.num</th>\n",
              "      <th>ipadSc_urls.num</th>\n",
              "      <th>lang.num</th>\n",
              "      <th>vpp_lic</th>\n",
              "    </tr>\n",
              "  </thead>\n",
              "  <tbody>\n",
              "    <tr>\n",
              "      <th>0</th>\n",
              "      <td>284882215</td>\n",
              "      <td>Facebook</td>\n",
              "      <td>389879808</td>\n",
              "      <td>USD</td>\n",
              "      <td>0.0</td>\n",
              "      <td>2974676</td>\n",
              "      <td>212</td>\n",
              "      <td>3.5</td>\n",
              "      <td>3.5</td>\n",
              "      <td>95.0</td>\n",
              "      <td>4+</td>\n",
              "      <td>Social Networking</td>\n",
              "      <td>37</td>\n",
              "      <td>1</td>\n",
              "      <td>29</td>\n",
              "      <td>1</td>\n",
              "    </tr>\n",
              "    <tr>\n",
              "      <th>1</th>\n",
              "      <td>389801252</td>\n",
              "      <td>Instagram</td>\n",
              "      <td>113954816</td>\n",
              "      <td>USD</td>\n",
              "      <td>0.0</td>\n",
              "      <td>2161558</td>\n",
              "      <td>1289</td>\n",
              "      <td>4.5</td>\n",
              "      <td>4.0</td>\n",
              "      <td>10.23</td>\n",
              "      <td>12+</td>\n",
              "      <td>Photo &amp; Video</td>\n",
              "      <td>37</td>\n",
              "      <td>0</td>\n",
              "      <td>29</td>\n",
              "      <td>1</td>\n",
              "    </tr>\n",
              "    <tr>\n",
              "      <th>2</th>\n",
              "      <td>529479190</td>\n",
              "      <td>Clash of Clans</td>\n",
              "      <td>116476928</td>\n",
              "      <td>USD</td>\n",
              "      <td>0.0</td>\n",
              "      <td>2130805</td>\n",
              "      <td>579</td>\n",
              "      <td>4.5</td>\n",
              "      <td>4.5</td>\n",
              "      <td>9.24.12</td>\n",
              "      <td>9+</td>\n",
              "      <td>Games</td>\n",
              "      <td>38</td>\n",
              "      <td>5</td>\n",
              "      <td>18</td>\n",
              "      <td>1</td>\n",
              "    </tr>\n",
              "  </tbody>\n",
              "</table>\n",
              "</div>\n",
              "    <div class=\"colab-df-buttons\">\n",
              "\n",
              "  <div class=\"colab-df-container\">\n",
              "    <button class=\"colab-df-convert\" onclick=\"convertToInteractive('df-bb12d65d-6caf-4098-85d4-27e3a1f76937')\"\n",
              "            title=\"Convert this dataframe to an interactive table.\"\n",
              "            style=\"display:none;\">\n",
              "\n",
              "  <svg xmlns=\"http://www.w3.org/2000/svg\" height=\"24px\" viewBox=\"0 -960 960 960\">\n",
              "    <path d=\"M120-120v-720h720v720H120Zm60-500h600v-160H180v160Zm220 220h160v-160H400v160Zm0 220h160v-160H400v160ZM180-400h160v-160H180v160Zm440 0h160v-160H620v160ZM180-180h160v-160H180v160Zm440 0h160v-160H620v160Z\"/>\n",
              "  </svg>\n",
              "    </button>\n",
              "\n",
              "  <style>\n",
              "    .colab-df-container {\n",
              "      display:flex;\n",
              "      gap: 12px;\n",
              "    }\n",
              "\n",
              "    .colab-df-convert {\n",
              "      background-color: #E8F0FE;\n",
              "      border: none;\n",
              "      border-radius: 50%;\n",
              "      cursor: pointer;\n",
              "      display: none;\n",
              "      fill: #1967D2;\n",
              "      height: 32px;\n",
              "      padding: 0 0 0 0;\n",
              "      width: 32px;\n",
              "    }\n",
              "\n",
              "    .colab-df-convert:hover {\n",
              "      background-color: #E2EBFA;\n",
              "      box-shadow: 0px 1px 2px rgba(60, 64, 67, 0.3), 0px 1px 3px 1px rgba(60, 64, 67, 0.15);\n",
              "      fill: #174EA6;\n",
              "    }\n",
              "\n",
              "    .colab-df-buttons div {\n",
              "      margin-bottom: 4px;\n",
              "    }\n",
              "\n",
              "    [theme=dark] .colab-df-convert {\n",
              "      background-color: #3B4455;\n",
              "      fill: #D2E3FC;\n",
              "    }\n",
              "\n",
              "    [theme=dark] .colab-df-convert:hover {\n",
              "      background-color: #434B5C;\n",
              "      box-shadow: 0px 1px 3px 1px rgba(0, 0, 0, 0.15);\n",
              "      filter: drop-shadow(0px 1px 2px rgba(0, 0, 0, 0.3));\n",
              "      fill: #FFFFFF;\n",
              "    }\n",
              "  </style>\n",
              "\n",
              "    <script>\n",
              "      const buttonEl =\n",
              "        document.querySelector('#df-bb12d65d-6caf-4098-85d4-27e3a1f76937 button.colab-df-convert');\n",
              "      buttonEl.style.display =\n",
              "        google.colab.kernel.accessAllowed ? 'block' : 'none';\n",
              "\n",
              "      async function convertToInteractive(key) {\n",
              "        const element = document.querySelector('#df-bb12d65d-6caf-4098-85d4-27e3a1f76937');\n",
              "        const dataTable =\n",
              "          await google.colab.kernel.invokeFunction('convertToInteractive',\n",
              "                                                    [key], {});\n",
              "        if (!dataTable) return;\n",
              "\n",
              "        const docLinkHtml = 'Like what you see? Visit the ' +\n",
              "          '<a target=\"_blank\" href=https://colab.research.google.com/notebooks/data_table.ipynb>data table notebook</a>'\n",
              "          + ' to learn more about interactive tables.';\n",
              "        element.innerHTML = '';\n",
              "        dataTable['output_type'] = 'display_data';\n",
              "        await google.colab.output.renderOutput(dataTable, element);\n",
              "        const docLink = document.createElement('div');\n",
              "        docLink.innerHTML = docLinkHtml;\n",
              "        element.appendChild(docLink);\n",
              "      }\n",
              "    </script>\n",
              "  </div>\n",
              "\n",
              "\n",
              "    <div id=\"df-f4ba4b68-e897-4f82-bc92-27378d9ac68a\">\n",
              "      <button class=\"colab-df-quickchart\" onclick=\"quickchart('df-f4ba4b68-e897-4f82-bc92-27378d9ac68a')\"\n",
              "                title=\"Suggest charts\"\n",
              "                style=\"display:none;\">\n",
              "\n",
              "<svg xmlns=\"http://www.w3.org/2000/svg\" height=\"24px\"viewBox=\"0 0 24 24\"\n",
              "     width=\"24px\">\n",
              "    <g>\n",
              "        <path d=\"M19 3H5c-1.1 0-2 .9-2 2v14c0 1.1.9 2 2 2h14c1.1 0 2-.9 2-2V5c0-1.1-.9-2-2-2zM9 17H7v-7h2v7zm4 0h-2V7h2v10zm4 0h-2v-4h2v4z\"/>\n",
              "    </g>\n",
              "</svg>\n",
              "      </button>\n",
              "\n",
              "<style>\n",
              "  .colab-df-quickchart {\n",
              "      --bg-color: #E8F0FE;\n",
              "      --fill-color: #1967D2;\n",
              "      --hover-bg-color: #E2EBFA;\n",
              "      --hover-fill-color: #174EA6;\n",
              "      --disabled-fill-color: #AAA;\n",
              "      --disabled-bg-color: #DDD;\n",
              "  }\n",
              "\n",
              "  [theme=dark] .colab-df-quickchart {\n",
              "      --bg-color: #3B4455;\n",
              "      --fill-color: #D2E3FC;\n",
              "      --hover-bg-color: #434B5C;\n",
              "      --hover-fill-color: #FFFFFF;\n",
              "      --disabled-bg-color: #3B4455;\n",
              "      --disabled-fill-color: #666;\n",
              "  }\n",
              "\n",
              "  .colab-df-quickchart {\n",
              "    background-color: var(--bg-color);\n",
              "    border: none;\n",
              "    border-radius: 50%;\n",
              "    cursor: pointer;\n",
              "    display: none;\n",
              "    fill: var(--fill-color);\n",
              "    height: 32px;\n",
              "    padding: 0;\n",
              "    width: 32px;\n",
              "  }\n",
              "\n",
              "  .colab-df-quickchart:hover {\n",
              "    background-color: var(--hover-bg-color);\n",
              "    box-shadow: 0 1px 2px rgba(60, 64, 67, 0.3), 0 1px 3px 1px rgba(60, 64, 67, 0.15);\n",
              "    fill: var(--button-hover-fill-color);\n",
              "  }\n",
              "\n",
              "  .colab-df-quickchart-complete:disabled,\n",
              "  .colab-df-quickchart-complete:disabled:hover {\n",
              "    background-color: var(--disabled-bg-color);\n",
              "    fill: var(--disabled-fill-color);\n",
              "    box-shadow: none;\n",
              "  }\n",
              "\n",
              "  .colab-df-spinner {\n",
              "    border: 2px solid var(--fill-color);\n",
              "    border-color: transparent;\n",
              "    border-bottom-color: var(--fill-color);\n",
              "    animation:\n",
              "      spin 1s steps(1) infinite;\n",
              "  }\n",
              "\n",
              "  @keyframes spin {\n",
              "    0% {\n",
              "      border-color: transparent;\n",
              "      border-bottom-color: var(--fill-color);\n",
              "      border-left-color: var(--fill-color);\n",
              "    }\n",
              "    20% {\n",
              "      border-color: transparent;\n",
              "      border-left-color: var(--fill-color);\n",
              "      border-top-color: var(--fill-color);\n",
              "    }\n",
              "    30% {\n",
              "      border-color: transparent;\n",
              "      border-left-color: var(--fill-color);\n",
              "      border-top-color: var(--fill-color);\n",
              "      border-right-color: var(--fill-color);\n",
              "    }\n",
              "    40% {\n",
              "      border-color: transparent;\n",
              "      border-right-color: var(--fill-color);\n",
              "      border-top-color: var(--fill-color);\n",
              "    }\n",
              "    60% {\n",
              "      border-color: transparent;\n",
              "      border-right-color: var(--fill-color);\n",
              "    }\n",
              "    80% {\n",
              "      border-color: transparent;\n",
              "      border-right-color: var(--fill-color);\n",
              "      border-bottom-color: var(--fill-color);\n",
              "    }\n",
              "    90% {\n",
              "      border-color: transparent;\n",
              "      border-bottom-color: var(--fill-color);\n",
              "    }\n",
              "  }\n",
              "</style>\n",
              "\n",
              "      <script>\n",
              "        async function quickchart(key) {\n",
              "          const quickchartButtonEl =\n",
              "            document.querySelector('#' + key + ' button');\n",
              "          quickchartButtonEl.disabled = true;  // To prevent multiple clicks.\n",
              "          quickchartButtonEl.classList.add('colab-df-spinner');\n",
              "          try {\n",
              "            const charts = await google.colab.kernel.invokeFunction(\n",
              "                'suggestCharts', [key], {});\n",
              "          } catch (error) {\n",
              "            console.error('Error during call to suggestCharts:', error);\n",
              "          }\n",
              "          quickchartButtonEl.classList.remove('colab-df-spinner');\n",
              "          quickchartButtonEl.classList.add('colab-df-quickchart-complete');\n",
              "        }\n",
              "        (() => {\n",
              "          let quickchartButtonEl =\n",
              "            document.querySelector('#df-f4ba4b68-e897-4f82-bc92-27378d9ac68a button');\n",
              "          quickchartButtonEl.style.display =\n",
              "            google.colab.kernel.accessAllowed ? 'block' : 'none';\n",
              "        })();\n",
              "      </script>\n",
              "    </div>\n",
              "\n",
              "    </div>\n",
              "  </div>\n"
            ],
            "application/vnd.google.colaboratory.intrinsic+json": {
              "type": "dataframe",
              "summary": "{\n  \"name\": \"explore_data(apple_store_english, 3, True)\",\n  \"rows\": 3,\n  \"fields\": [\n    {\n      \"column\": \"id\",\n      \"properties\": {\n        \"dtype\": \"number\",\n        \"std\": 122709420,\n        \"min\": 284882215,\n        \"max\": 529479190,\n        \"num_unique_values\": 3,\n        \"samples\": [\n          284882215,\n          389801252,\n          529479190\n        ],\n        \"semantic_type\": \"\",\n        \"description\": \"\"\n      }\n    },\n    {\n      \"column\": \"track_name\",\n      \"properties\": {\n        \"dtype\": \"string\",\n        \"num_unique_values\": 3,\n        \"samples\": [\n          \"Facebook\",\n          \"Instagram\",\n          \"Clash of Clans\"\n        ],\n        \"semantic_type\": \"\",\n        \"description\": \"\"\n      }\n    },\n    {\n      \"column\": \"size_bytes\",\n      \"properties\": {\n        \"dtype\": \"number\",\n        \"std\": 158582311,\n        \"min\": 113954816,\n        \"max\": 389879808,\n        \"num_unique_values\": 3,\n        \"samples\": [\n          389879808,\n          113954816,\n          116476928\n        ],\n        \"semantic_type\": \"\",\n        \"description\": \"\"\n      }\n    },\n    {\n      \"column\": \"currency\",\n      \"properties\": {\n        \"dtype\": \"category\",\n        \"num_unique_values\": 1,\n        \"samples\": [\n          \"USD\"\n        ],\n        \"semantic_type\": \"\",\n        \"description\": \"\"\n      }\n    },\n    {\n      \"column\": \"price\",\n      \"properties\": {\n        \"dtype\": \"number\",\n        \"std\": 0.0,\n        \"min\": 0.0,\n        \"max\": 0.0,\n        \"num_unique_values\": 1,\n        \"samples\": [\n          0.0\n        ],\n        \"semantic_type\": \"\",\n        \"description\": \"\"\n      }\n    },\n    {\n      \"column\": \"rating_count_tot\",\n      \"properties\": {\n        \"dtype\": \"number\",\n        \"std\": 478578,\n        \"min\": 2130805,\n        \"max\": 2974676,\n        \"num_unique_values\": 3,\n        \"samples\": [\n          2974676\n        ],\n        \"semantic_type\": \"\",\n        \"description\": \"\"\n      }\n    },\n    {\n      \"column\": \"rating_count_ver\",\n      \"properties\": {\n        \"dtype\": \"number\",\n        \"std\": 547,\n        \"min\": 212,\n        \"max\": 1289,\n        \"num_unique_values\": 3,\n        \"samples\": [\n          212\n        ],\n        \"semantic_type\": \"\",\n        \"description\": \"\"\n      }\n    },\n    {\n      \"column\": \"user_rating\",\n      \"properties\": {\n        \"dtype\": \"number\",\n        \"std\": 0.5773502691896258,\n        \"min\": 3.5,\n        \"max\": 4.5,\n        \"num_unique_values\": 2,\n        \"samples\": [\n          4.5\n        ],\n        \"semantic_type\": \"\",\n        \"description\": \"\"\n      }\n    },\n    {\n      \"column\": \"user_rating_ver\",\n      \"properties\": {\n        \"dtype\": \"number\",\n        \"std\": 0.5,\n        \"min\": 3.5,\n        \"max\": 4.5,\n        \"num_unique_values\": 3,\n        \"samples\": [\n          3.5\n        ],\n        \"semantic_type\": \"\",\n        \"description\": \"\"\n      }\n    },\n    {\n      \"column\": \"ver\",\n      \"properties\": {\n        \"dtype\": \"string\",\n        \"num_unique_values\": 3,\n        \"samples\": [\n          \"95.0\"\n        ],\n        \"semantic_type\": \"\",\n        \"description\": \"\"\n      }\n    },\n    {\n      \"column\": \"cont_rating\",\n      \"properties\": {\n        \"dtype\": \"string\",\n        \"num_unique_values\": 3,\n        \"samples\": [\n          \"4+\"\n        ],\n        \"semantic_type\": \"\",\n        \"description\": \"\"\n      }\n    },\n    {\n      \"column\": \"prime_genre\",\n      \"properties\": {\n        \"dtype\": \"string\",\n        \"num_unique_values\": 3,\n        \"samples\": [\n          \"Social Networking\"\n        ],\n        \"semantic_type\": \"\",\n        \"description\": \"\"\n      }\n    },\n    {\n      \"column\": \"sup_devices.num\",\n      \"properties\": {\n        \"dtype\": \"number\",\n        \"std\": 0,\n        \"min\": 37,\n        \"max\": 38,\n        \"num_unique_values\": 2,\n        \"samples\": [\n          38\n        ],\n        \"semantic_type\": \"\",\n        \"description\": \"\"\n      }\n    },\n    {\n      \"column\": \"ipadSc_urls.num\",\n      \"properties\": {\n        \"dtype\": \"number\",\n        \"std\": 2,\n        \"min\": 0,\n        \"max\": 5,\n        \"num_unique_values\": 3,\n        \"samples\": [\n          1\n        ],\n        \"semantic_type\": \"\",\n        \"description\": \"\"\n      }\n    },\n    {\n      \"column\": \"lang.num\",\n      \"properties\": {\n        \"dtype\": \"number\",\n        \"std\": 6,\n        \"min\": 18,\n        \"max\": 29,\n        \"num_unique_values\": 2,\n        \"samples\": [\n          18\n        ],\n        \"semantic_type\": \"\",\n        \"description\": \"\"\n      }\n    },\n    {\n      \"column\": \"vpp_lic\",\n      \"properties\": {\n        \"dtype\": \"number\",\n        \"std\": 0,\n        \"min\": 1,\n        \"max\": 1,\n        \"num_unique_values\": 1,\n        \"samples\": [\n          1\n        ],\n        \"semantic_type\": \"\",\n        \"description\": \"\"\n      }\n    }\n  ]\n}"
            }
          },
          "metadata": {},
          "execution_count": 32
        }
      ]
    },
    {
      "cell_type": "markdown",
      "source": [
        "We can see that we're left with 9614 Android apps and 6183 iOS apps."
      ],
      "metadata": {
        "id": "ms00UuE_lk1u"
      }
    },
    {
      "cell_type": "markdown",
      "source": [
        "As we mentioned in the introduction, we only build apps that are free to download and install, and our main source of revenue consists of in-app ads. Our data sets contain both free and non-free apps, and we'll need to isolate only the free apps for our analysis. Below, we isolate the free apps for both our data sets."
      ],
      "metadata": {
        "id": "MUqZOG_ulmMp"
      }
    },
    {
      "cell_type": "code",
      "source": [
        "# Filter Android apps for free ones (Price = '0')\n",
        "google_play_final = google_play_english[google_play_english['Price'] == '0']\n",
        "\n",
        "# Filter iOS apps for free ones (price = 0.0)\n",
        "apple_store_final = apple_store_english[apple_store_english['price'] == 0.0]\n",
        "\n",
        "# Print the number of free apps\n",
        "print(len(apple_store_final))\n",
        "print(len(google_play_final))"
      ],
      "metadata": {
        "colab": {
          "base_uri": "https://localhost:8080/"
        },
        "id": "eMxQznZKltKa",
        "outputId": "d58189ab-ed72-42a2-92b2-9e96bc50e0f7"
      },
      "execution_count": 34,
      "outputs": [
        {
          "output_type": "stream",
          "name": "stdout",
          "text": [
            "3222\n",
            "8864\n"
          ]
        }
      ]
    },
    {
      "cell_type": "markdown",
      "source": [
        "We're left with 8864 Android apps and 3222 iOS apps, which should be enough for our analysis."
      ],
      "metadata": {
        "id": "w2UqgH42mWL0"
      }
    },
    {
      "cell_type": "markdown",
      "source": [
        "## 5. Save to CSV\n",
        "Exports the final preprocessed datasets to CSV files for further analysis."
      ],
      "metadata": {
        "id": "agLK7uRXpuyp"
      }
    },
    {
      "cell_type": "code",
      "source": [
        "google_play_final.to_csv('/content/drive/My Drive/preprocessed_google_play.csv', index=False)\n",
        "apple_store_final.to_csv('/content/drive/My Drive/preprocessed_apple_store.csv', index=False)"
      ],
      "metadata": {
        "id": "FWXbnPOgxKLz"
      },
      "execution_count": 35,
      "outputs": []
    }
  ]
}